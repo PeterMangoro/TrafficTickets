{
  "cells": [
    {
      "cell_type": "markdown",
      "metadata": {},
      "source": [
        "# FleetSafe EDA\n",
        "\n",
        "This notebook explores traffic violations and optional weather data to inform targeted training and awareness campaigns.\n",
        "\n",
        "- Load tickets (2023 required, optional 2022)\n",
        "- Sanity checks, missing values, distributions\n",
        "- Temporal patterns\n",
        "- Violation types, age, gender\n",
        "- Weather merge (day-level fallback)\n",
        "\n"
      ]
    },
    {
      "cell_type": "code",
      "execution_count": 24,
      "metadata": {},
      "outputs": [
        {
          "name": "stdout",
          "output_type": "stream",
          "text": [
            "2023: c:\\Users\\peter\\OneDrive\\Documentos\\Personal\\TrafficTickets\\Traffic_Tickets_Issued_Window_2023.csv (2795593, 11)\n",
            "2022: c:\\Users\\peter\\OneDrive\\Documentos\\Personal\\TrafficTickets\\Traffic_Tickets_Issued_Window_2022.csv (2543003, 11)\n",
            "Weather: c:\\Users\\peter\\OneDrive\\Documentos\\Personal\\TrafficTickets\\cleaned_weather_dataset.csv (365, 12)\n"
          ]
        }
      ],
      "source": [
        "import os\n",
        "from pathlib import Path\n",
        "import pandas as pd\n",
        "import numpy as np\n",
        "from dateutil import parser\n",
        "import plotly.express as px\n",
        "\n",
        "# Robust path resolution: search upwards from current working directory\n",
        "CWD = Path.cwd()\n",
        "\n",
        "def find_upwards(filename: str, start: Path = CWD, max_levels: int = 5) -> Path | None:\n",
        "    p = start\n",
        "    for _ in range(max_levels):\n",
        "        candidate = p / filename\n",
        "        if candidate.exists():\n",
        "            return candidate\n",
        "        p = p.parent\n",
        "    return None\n",
        "\n",
        "p_2023 = find_upwards(\"Traffic_Tickets_Issued_Window_2023.csv\")\n",
        "p_2022 = find_upwards(\"Traffic_Tickets_Issued_Window_2022.csv\")\n",
        "p_wx = find_upwards(\"cleaned_weather_dataset.csv\")\n",
        "\n",
        "if p_2023 is None:\n",
        "    raise FileNotFoundError(\"Traffic_Tickets_Issued_Window_2023.csv not found. Place it in the project root.\")\n",
        "\n",
        "# Load\n",
        "df23 = pd.read_csv(p_2023)\n",
        "df22 = pd.read_csv(p_2022) if p_2022 is not None else None\n",
        "wx = pd.read_csv(p_wx) if p_wx is not None else None\n",
        "\n",
        "print(\"2023:\", p_2023, df23.shape)\n",
        "if df22 is not None:\n",
        "    print(\"2022:\", p_2022, df22.shape)\n",
        "if wx is not None:\n",
        "    print(\"Weather:\", p_wx, wx.shape)\n",
        "\n"
      ]
    },
    {
      "cell_type": "code",
      "execution_count": 25,
      "metadata": {},
      "outputs": [
        {
          "name": "stdout",
          "output_type": "stream",
          "text": [
            "{'datetime': None, 'violation': 'Violation Charged Code', 'age': 'Age at Violation', 'gender': 'Gender'}\n"
          ]
        }
      ],
      "source": [
        "# Column guesses (edit as needed)\n",
        "col_dt = next((c for c in df23.columns if c.lower() in [\"date\", \"datetime\", \"timestamp\"]), None)\n",
        "col_violation = next((c for c in df23.columns if \"violation\" in c.lower() or \"offense\" in c.lower()), None)\n",
        "col_age = next((c for c in df23.columns if \"age\" in c.lower()), None)\n",
        "col_gender = next((c for c in df23.columns if \"gender\" in c.lower() or c.lower() in [\"sex\"]), None)\n",
        "\n",
        "print({\"datetime\": col_dt, \"violation\": col_violation, \"age\": col_age, \"gender\": col_gender})\n",
        "\n",
        "# Parse datetime\n",
        "if col_dt:\n",
        "    df23[\"datetime\"] = pd.to_datetime(df23[col_dt], errors=\"coerce\")\n",
        "    df23[\"month\"] = df23[\"datetime\"].dt.to_period(\"M\").dt.to_timestamp()\n",
        "    df23[\"weekday\"] = df23[\"datetime\"].dt.day_name()\n",
        "\n"
      ]
    },
    {
      "cell_type": "code",
      "execution_count": 26,
      "metadata": {},
      "outputs": [
        {
          "name": "stdout",
          "output_type": "stream",
          "text": [
            "Age at Violation          0.015885\n",
            "Violation Description     0.000000\n",
            "Violation Charged Code    0.000000\n",
            "Violation Year            0.000000\n",
            "Violation Month           0.000000\n",
            "Violation Day of Week     0.000000\n",
            "Gender                    0.000000\n",
            "State of License          0.000000\n",
            "Police Agency             0.000000\n",
            "Court                     0.000000\n",
            "Source                    0.000000\n",
            "dtype: float64\n",
            "Violation Charged Code\n",
            "1180D      260901\n",
            "1110A      179236\n",
            "306B       173658\n",
            "5091       160804\n",
            "1180B      139315\n",
            "4011A      107482\n",
            "1172A       76176\n",
            "37512A2     74982\n",
            "1180D12     73187\n",
            "1225D       72226\n",
            "Name: count, dtype: int64\n",
            "count    2.751185e+06\n",
            "mean     3.647965e+01\n",
            "std      1.372628e+01\n",
            "min      1.600000e+01\n",
            "25%      2.500000e+01\n",
            "50%      3.400000e+01\n",
            "75%      4.500000e+01\n",
            "max      9.500000e+01\n",
            "Name: Age at Violation, dtype: float64\n",
            "Gender\n",
            "M    2057964\n",
            "F     695534\n",
            "C      41828\n",
            "X        267\n",
            "Name: count, dtype: int64\n"
          ]
        }
      ],
      "source": [
        "# Distributions and missing values\n",
        "print(df23.isna().mean().sort_values(ascending=False).head(20))\n",
        "if col_violation:\n",
        "    print(df23[col_violation].value_counts().head(10))\n",
        "if col_age:\n",
        "    print(pd.to_numeric(df23[col_age], errors=\"coerce\").describe())\n",
        "if col_gender:\n",
        "    print(df23[col_gender].value_counts())\n",
        "\n"
      ]
    },
    {
      "cell_type": "code",
      "execution_count": 27,
      "metadata": {},
      "outputs": [],
      "source": [
        "# Time series and weekday patterns\n",
        "if col_dt:\n",
        "    ts = df23.groupby(\"month\").size().reset_index(name=\"count\")\n",
        "    fig = px.line(ts, x=\"month\", y=\"count\", title=\"Monthly Violations (2023)\")\n",
        "    fig.show()\n",
        "\n",
        "    wd = df23.groupby(\"weekday\").size().reset_index(name=\"count\")\n",
        "    order = [\"Monday\",\"Tuesday\",\"Wednesday\",\"Thursday\",\"Friday\",\"Saturday\",\"Sunday\"]\n",
        "    wd[\"weekday\"] = pd.Categorical(wd[\"weekday\"], categories=order, ordered=True)\n",
        "    wd = wd.sort_values(\"weekday\")\n",
        "    fig2 = px.bar(wd, x=\"weekday\", y=\"count\", title=\"Violations by Weekday\")\n",
        "    fig2.add_hline(y=wd[\"count\"].mean(), line_dash=\"dash\", line_color=\"orange\")\n",
        "    fig2.show()\n",
        "\n"
      ]
    },
    {
      "cell_type": "code",
      "execution_count": 29,
      "metadata": {},
      "outputs": [
        {
          "name": "stderr",
          "output_type": "stream",
          "text": [
            "C:\\Users\\peter\\AppData\\Local\\Temp\\ipykernel_21632\\2021778130.py:9: FutureWarning:\n",
            "\n",
            "The default of observed=False is deprecated and will be changed to True in a future version of pandas. Pass observed=False to retain current behavior or observed=True to adopt the future default and silence this warning.\n",
            "\n"
          ]
        },
        {
          "ename": "ValueError",
          "evalue": "Mime type rendering requires nbformat>=4.2.0 but it is not installed",
          "output_type": "error",
          "traceback": [
            "\u001b[31m---------------------------------------------------------------------------\u001b[39m",
            "\u001b[31mValueError\u001b[39m                                Traceback (most recent call last)",
            "\u001b[36mCell\u001b[39m\u001b[36m \u001b[39m\u001b[32mIn[29]\u001b[39m\u001b[32m, line 12\u001b[39m\n\u001b[32m     10\u001b[39m     pivot = hm.pivot(index=\u001b[33m\"\u001b[39m\u001b[33mage_group\u001b[39m\u001b[33m\"\u001b[39m, columns=col_violation, values=\u001b[33m\"\u001b[39m\u001b[33mcount\u001b[39m\u001b[33m\"\u001b[39m).fillna(\u001b[32m0\u001b[39m)\n\u001b[32m     11\u001b[39m     fig3 = px.imshow(pivot, aspect=\u001b[33m\"\u001b[39m\u001b[33mauto\u001b[39m\u001b[33m\"\u001b[39m, title=\u001b[33m\"\u001b[39m\u001b[33mHeatmap: Age Group vs Violation Type\u001b[39m\u001b[33m\"\u001b[39m)\n\u001b[32m---> \u001b[39m\u001b[32m12\u001b[39m     \u001b[43mfig3\u001b[49m\u001b[43m.\u001b[49m\u001b[43mshow\u001b[49m\u001b[43m(\u001b[49m\u001b[43m)\u001b[49m\n\u001b[32m     14\u001b[39m \u001b[38;5;28;01mif\u001b[39;00m col_age \u001b[38;5;129;01mand\u001b[39;00m col_gender:\n\u001b[32m     15\u001b[39m     ag = df23.groupby([\u001b[33m\"\u001b[39m\u001b[33mage_group\u001b[39m\u001b[33m\"\u001b[39m, col_gender]).size().reset_index(name=\u001b[33m\"\u001b[39m\u001b[33mcount\u001b[39m\u001b[33m\"\u001b[39m)\n",
            "\u001b[36mFile \u001b[39m\u001b[32mc:\\Users\\peter\\AppData\\Local\\Programs\\Python\\Python313\\Lib\\site-packages\\plotly\\basedatatypes.py:3420\u001b[39m, in \u001b[36mBaseFigure.show\u001b[39m\u001b[34m(self, *args, **kwargs)\u001b[39m\n\u001b[32m   3387\u001b[39m \u001b[38;5;250m\u001b[39m\u001b[33;03m\"\"\"\u001b[39;00m\n\u001b[32m   3388\u001b[39m \u001b[33;03mShow a figure using either the default renderer(s) or the renderer(s)\u001b[39;00m\n\u001b[32m   3389\u001b[39m \u001b[33;03mspecified by the renderer argument\u001b[39;00m\n\u001b[32m   (...)\u001b[39m\u001b[32m   3416\u001b[39m \u001b[33;03mNone\u001b[39;00m\n\u001b[32m   3417\u001b[39m \u001b[33;03m\"\"\"\u001b[39;00m\n\u001b[32m   3418\u001b[39m \u001b[38;5;28;01mimport\u001b[39;00m\u001b[38;5;250m \u001b[39m\u001b[34;01mplotly\u001b[39;00m\u001b[34;01m.\u001b[39;00m\u001b[34;01mio\u001b[39;00m\u001b[38;5;250m \u001b[39m\u001b[38;5;28;01mas\u001b[39;00m\u001b[38;5;250m \u001b[39m\u001b[34;01mpio\u001b[39;00m\n\u001b[32m-> \u001b[39m\u001b[32m3420\u001b[39m \u001b[38;5;28;01mreturn\u001b[39;00m \u001b[43mpio\u001b[49m\u001b[43m.\u001b[49m\u001b[43mshow\u001b[49m\u001b[43m(\u001b[49m\u001b[38;5;28;43mself\u001b[39;49m\u001b[43m,\u001b[49m\u001b[43m \u001b[49m\u001b[43m*\u001b[49m\u001b[43margs\u001b[49m\u001b[43m,\u001b[49m\u001b[43m \u001b[49m\u001b[43m*\u001b[49m\u001b[43m*\u001b[49m\u001b[43mkwargs\u001b[49m\u001b[43m)\u001b[49m\n",
            "\u001b[36mFile \u001b[39m\u001b[32mc:\\Users\\peter\\AppData\\Local\\Programs\\Python\\Python313\\Lib\\site-packages\\plotly\\io\\_renderers.py:415\u001b[39m, in \u001b[36mshow\u001b[39m\u001b[34m(fig, renderer, validate, **kwargs)\u001b[39m\n\u001b[32m    410\u001b[39m     \u001b[38;5;28;01mraise\u001b[39;00m \u001b[38;5;167;01mValueError\u001b[39;00m(\n\u001b[32m    411\u001b[39m         \u001b[33m\"\u001b[39m\u001b[33mMime type rendering requires ipython but it is not installed\u001b[39m\u001b[33m\"\u001b[39m\n\u001b[32m    412\u001b[39m     )\n\u001b[32m    414\u001b[39m \u001b[38;5;28;01mif\u001b[39;00m \u001b[38;5;129;01mnot\u001b[39;00m nbformat \u001b[38;5;129;01mor\u001b[39;00m Version(nbformat.__version__) < Version(\u001b[33m\"\u001b[39m\u001b[33m4.2.0\u001b[39m\u001b[33m\"\u001b[39m):\n\u001b[32m--> \u001b[39m\u001b[32m415\u001b[39m     \u001b[38;5;28;01mraise\u001b[39;00m \u001b[38;5;167;01mValueError\u001b[39;00m(\n\u001b[32m    416\u001b[39m         \u001b[33m\"\u001b[39m\u001b[33mMime type rendering requires nbformat>=4.2.0 but it is not installed\u001b[39m\u001b[33m\"\u001b[39m\n\u001b[32m    417\u001b[39m     )\n\u001b[32m    419\u001b[39m display_jupyter_version_warnings()\n\u001b[32m    421\u001b[39m ipython_display.display(bundle, raw=\u001b[38;5;28;01mTrue\u001b[39;00m)\n",
            "\u001b[31mValueError\u001b[39m: Mime type rendering requires nbformat>=4.2.0 but it is not installed"
          ]
        }
      ],
      "source": [
        "# Violation vs age group heatmap and stacked by gender\n",
        "if col_age:\n",
        "    ages = pd.to_numeric(df23[col_age], errors=\"coerce\")\n",
        "    bins = [0,17,25,35,45,55,65,200]\n",
        "    labels = [\"<=17\",\"18-25\",\"26-35\",\"36-45\",\"46-55\",\"56-65\",\"66+\"]\n",
        "    df23[\"age_group\"] = pd.cut(ages, bins=bins, labels=labels, right=True, include_lowest=True)\n",
        "\n",
        "if col_violation and col_age:\n",
        "    hm = df23.groupby([\"age_group\", col_violation]).size().reset_index(name=\"count\")\n",
        "    pivot = hm.pivot(index=\"age_group\", columns=col_violation, values=\"count\").fillna(0)\n",
        "    fig3 = px.imshow(pivot, aspect=\"auto\", title=\"Heatmap: Age Group vs Violation Type\")\n",
        "    fig3.show()\n",
        "\n",
        "if col_age and col_gender:\n",
        "    ag = df23.groupby([\"age_group\", col_gender]).size().reset_index(name=\"count\")\n",
        "    fig4 = px.bar(ag, x=\"age_group\", y=\"count\", color=col_gender, barmode=\"stack\", title=\"Stacked: Age Group by Gender\")\n",
        "    fig4.show()\n",
        "\n"
      ]
    },
    {
      "cell_type": "code",
      "execution_count": null,
      "metadata": {},
      "outputs": [],
      "source": [
        "# Weather join (day-level fallback)\n",
        "if wx is not None:\n",
        "    wx_cols = {c.lower(): c for c in wx.columns}\n",
        "    wx_dt = wx_cols.get(\"datetime\") or wx_cols.get(\"date\")\n",
        "    wx_cond = wx_cols.get(\"condition\") or wx_cols.get(\"weather\")\n",
        "    if wx_dt and wx_cond and col_dt:\n",
        "        wx2 = wx[[wx_dt, wx_cond]].copy()\n",
        "        wx2[wx_dt] = pd.to_datetime(wx2[wx_dt], errors=\"coerce\")\n",
        "        wx2[\"wx_day\"] = wx2[wx_dt].dt.date\n",
        "        df23[\"day\"] = df23[\"datetime\"].dt.date\n",
        "        merged = df23.merge(wx2[[\"wx_day\", wx_cond]].dropna().drop_duplicates(\"wx_day\"), left_on=\"day\", right_on=\"wx_day\", how=\"left\")\n",
        "        wc = merged[wx_cond].fillna(\"Unknown\")\n",
        "        s = merged.groupby(wc).size().reset_index(name=\"count\").sort_values(\"count\", ascending=False)\n",
        "        fig5 = px.bar(s, x=wx_cond, y=\"count\", title=\"Weather vs Violations\")\n",
        "        fig5.show()\n",
        "\n"
      ]
    }
  ],
  "metadata": {
    "kernelspec": {
      "display_name": "Python 3",
      "language": "python",
      "name": "python3"
    },
    "language_info": {
      "codemirror_mode": {
        "name": "ipython",
        "version": 3
      },
      "file_extension": ".py",
      "mimetype": "text/x-python",
      "name": "python",
      "nbconvert_exporter": "python",
      "pygments_lexer": "ipython3",
      "version": "3.13.5"
    }
  },
  "nbformat": 4,
  "nbformat_minor": 2
}
